{
 "cells": [
  {
   "cell_type": "code",
   "execution_count": 1,
   "source": [
    "import pkg_resources\r\n",
    "from symspellpy.symspellpy import SymSpell, Verbosity"
   ],
   "outputs": [],
   "metadata": {}
  },
  {
   "cell_type": "code",
   "execution_count": 2,
   "source": [
    "# import json\r\n",
    "# import string\r\n",
    "# import re\r\n",
    "\r\n",
    "# with open('dataset/1-gram.json') as fopen:\r\n",
    "#     myfile = json.load(fopen)\r\n",
    "\r\n",
    "# with open(\"dataset/malay-words.txt\", \"w\", encoding=\"utf-8\") as text_file:\r\n",
    "#     j=1\r\n",
    "#     for i in myfile:\r\n",
    "#         # n = i.strip(string.punctuation)\r\n",
    "#         j+=1\r\n",
    "#         n = re.sub(r'[^\\w\\s]','',i)\r\n",
    "#         if j >= 248787:\r\n",
    "#             n = n.rstrip(\"\\n\")\r\n",
    "\r\n",
    "#         text_file.write(f'{n} {myfile[i]}\\n')"
   ],
   "outputs": [],
   "metadata": {}
  },
  {
   "cell_type": "code",
   "execution_count": 3,
   "source": [
    "# import json\r\n",
    "# import string\r\n",
    "# import re\r\n",
    "# from collections import Counter\r\n",
    "\r\n",
    "# with open('dataset/dumping-wiki-6-july-2019.json') as fopen:\r\n",
    "#     myfile = json.load(fopen)\r\n",
    "\r\n",
    "# corpus = []\r\n",
    "# with open(\"dataset/malay-words.txt\", \"w\", encoding=\"utf-8\") as text_file:\r\n",
    "#     for line in myfile:\r\n",
    "#         line = line.replace('\\n', ' ').replace('\\t', ' ').lower()\r\n",
    "#         line = re.sub('[^a-z ]', ' ', line)\r\n",
    "#         text_file.write(f'{line}\\n')\r\n",
    "#     # tokens = line.split(' ')\r\n",
    "#     # tokens = [token for token in tokens if len(token) > 0]\r\n",
    "#     # corpus.extend(tokens)\r\n",
    "\r\n",
    "# # corpus = Counter(corpus)\r\n"
   ],
   "outputs": [],
   "metadata": {}
  },
  {
   "cell_type": "code",
   "execution_count": 4,
   "source": [
    "# from symspellpy import SymSpell\r\n",
    "\r\n",
    "# sym_spell = SymSpell()\r\n",
    "# corpus_path = 'dataset/malay-words.txt'\r\n",
    "# sym_spell.create_dictionary(corpus_path)\r\n",
    "\r\n",
    "# print(sym_spell.words)"
   ],
   "outputs": [],
   "metadata": {}
  },
  {
   "cell_type": "code",
   "execution_count": 5,
   "source": [
    "# # build symspell tree \r\n",
    "# sym_spell = SymSpell(max_dictionary_edit_distance=2, prefix_length=7)\r\n",
    "# #loading dictionary/lexicon\r\n",
    "# dictionary_path = pkg_resources.resource_filename(\"symspellpy\", \"frequency_dictionary_en_82_765.txt\")"
   ],
   "outputs": [],
   "metadata": {}
  },
  {
   "cell_type": "code",
   "execution_count": 6,
   "source": [
    "# # term_index is the column of the term and count_index is the\r\n",
    "# # column of the term frequency\r\n",
    "# sym_spell.load_dictionary(dictionary_path, term_index=0, count_index=1)\r\n",
    "\r\n",
    "# # lookup suggestions for single-word input strings\r\n",
    "# input_term = \"sms\"  # misspelling of \"members\"\r\n",
    "# # max edit distance per lookup\r\n",
    "# print(\"Misspelled Word - \",input_term)\r\n",
    "# # (max_edit_distance_lookup <= max_dictionary_edit_distance)\r\n",
    "# suggestions = sym_spell.lookup(input_term, Verbosity.CLOSEST,\r\n",
    "#                                max_edit_distance=2)\r\n",
    "# # display suggestion term, term frequency, and edit distance\r\n",
    "# print(\"Best Candidate - \")\r\n",
    "# for suggestion in suggestions:\r\n",
    "#     print(suggestion)"
   ],
   "outputs": [],
   "metadata": {}
  },
  {
   "cell_type": "code",
   "execution_count": 7,
   "source": [
    "# from dataset.word import words \r\n",
    "# with open(\"dataset/malay-words.txt\", \"w\", encoding=\"utf-8\") as text_file:\r\n",
    "#     for w in words:\r\n",
    "#         text_file.write(f'{w}\\n')"
   ],
   "outputs": [],
   "metadata": {}
  }
 ],
 "metadata": {
  "orig_nbformat": 4,
  "language_info": {
   "name": "python",
   "version": "3.7.4",
   "mimetype": "text/x-python",
   "codemirror_mode": {
    "name": "ipython",
    "version": 3
   },
   "pygments_lexer": "ipython3",
   "nbconvert_exporter": "python",
   "file_extension": ".py"
  },
  "kernelspec": {
   "name": "python3",
   "display_name": "Python 3.7.4 64-bit ('venv': venv)"
  },
  "interpreter": {
   "hash": "b3f142a98a6d23ed969ea10671f9b46be818a2fb2bf860b2d6208d7344d8ce18"
  }
 },
 "nbformat": 4,
 "nbformat_minor": 2
}